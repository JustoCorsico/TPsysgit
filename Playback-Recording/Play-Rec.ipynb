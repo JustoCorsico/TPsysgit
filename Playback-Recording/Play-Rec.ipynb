{
 "cells": [
  {
   "cell_type": "markdown",
   "metadata": {},
   "source": [
    "# Primer trabajo práctico Señales y sistemas"
   ]
  },
  {
   "cell_type": "markdown",
   "metadata": {},
   "source": [
    "## *Función de grabación y reproducción simultanea*"
   ]
  },
  {
   "cell_type": "markdown",
   "metadata": {},
   "source": [
    "- *Gonzalez Leonardo*\n",
    "- *Rode Valentin* \n",
    "- *Córsico Justo*\n"
   ]
  },
  {
   "cell_type": "markdown",
   "metadata": {},
   "source": [
    "Para el tercer y último punto se pedía escribir un código que nos permita reproducir y grabar simultaneamente un archivo wav, para finalmente medir la latencia entre esos dos eventos."
   ]
  },
  {
   "cell_type": "markdown",
   "metadata": {},
   "source": [
    "Para reproducir y grabar simultaneamente se importaron las siguientes librerías:"
   ]
  },
  {
   "cell_type": "code",
   "execution_count": null,
   "metadata": {},
   "outputs": [],
   "source": [
    "import sounddevice as sd\n",
    "import numpy as np\n",
    "import soundfile as sf \n",
    "from scipy.io import wavfile\n",
    "import time\n",
    "from matplotlib import pyplot as plt"
   ]
  },
  {
   "cell_type": "markdown",
   "metadata": {},
   "source": [
    "La primera función, definida como get_data, se utilizó para que el usuario ingrese el tiempo de duracion de grabación y reproducción (t), y para que seleccione los dispositivos de entrada (mic) y de salida (spkr)."
   ]
  },
  {
   "cell_type": "code",
   "execution_count": null,
   "metadata": {},
   "outputs": [],
   "source": [
    "def get_data():\n",
    "    t=int(input(\"Ingrese tiempo de grabacion y reproducción:\"))\n",
    "    print(sd.query_devices())\n",
    "    mic=int(input(\"Ingrese numero de dispositivo de entrada:\"))\n",
    "    spkr=int(input(\"Ingrese numero de dispositivo de salida:\"))\n",
    "    return(mic,spkr,t)"
   ]
  },
  {
   "cell_type": "markdown",
   "metadata": {},
   "source": [
    "Los valores de salida de 'get_data' se usaron como valores de entrada para 'playrecord', funcion que se encargó de reproducir y grabar en simultaneo. El comando que nos permitió hacer esto fue 'playrec' de sounddevice, con los dispositivos de entrada y salida especificados previamente. Al utilizar el comando 'sd.default.samplerate', la frecuencia de muestreo de la grabación va a coincidir automáticamente la del archivo wav seleccionado. Usar 'sd.default.device' sirve para seleccionar los dispositivos de entrada y salida previamente pedidos. Estos deben colocarse como un vector de dos posiciones siendo input y output respectivamente.\n",
    "\n",
    "La funcion del comando 'time.sleep' es la de poner en pausa el código durante 't' segundos, valor previamente ingresado por el usuario. Es por esto que la función 'sd.playrec' se va a ejecutar durante esos 't' segundos y luego se ejecutará el comando 'sd.stop', que detendrá la grabación."
   ]
  },
  {
   "cell_type": "code",
   "execution_count": null,
   "metadata": {},
   "outputs": [],
   "source": [
    "def playrecord(mic,spkr,t):\n",
    "    sd.default.samplerate = frec\n",
    "    sd.default.device=mic,spkr\n",
    "    sd.default.channels=2\n",
    "    myrecording = sd.playrec(data,channels=1)\n",
    "    time.sleep(t)\n",
    "    sd.stop() \n",
    "    return myrecording"
   ]
  },
  {
   "cell_type": "markdown",
   "metadata": {},
   "source": [
    "Luego se guardó lo grabado como archivo wav:"
   ]
  },
  {
   "cell_type": "code",
   "execution_count": null,
   "metadata": {},
   "outputs": [],
   "source": [
    "def get_wav(myrecording):\n",
    "    audio2 = (myrecording* np.iinfo(np.int16).max).astype(np.int16)\n",
    "    wavfile.write(\"grabacion.wav\",frec,audio2)\n",
    "    return"
   ]
  },
  {
   "cell_type": "markdown",
   "metadata": {},
   "source": [
    "Finalmente, el llamado a cada una de las funciones (MAIN):"
   ]
  },
  {
   "cell_type": "code",
   "execution_count": null,
   "metadata": {},
   "outputs": [],
   "source": [
    "data, frec = sf.read(\"Sine Sweep.wav\", dtype='float32') ##Toma la data del archivo\n",
    "mic,spkr,t=get_data()\n",
    "myrecording=playrecord(mic,spkr,t)\n",
    "get_wav(myrecording)"
   ]
  },
  {
   "cell_type": "markdown",
   "metadata": {},
   "source": []
  }
 ],
 "metadata": {
  "kernelspec": {
   "display_name": "base",
   "language": "python",
   "name": "python3"
  },
  "language_info": {
   "codemirror_mode": {
    "name": "ipython",
    "version": 3
   },
   "file_extension": ".py",
   "mimetype": "text/x-python",
   "name": "python",
   "nbconvert_exporter": "python",
   "pygments_lexer": "ipython3",
   "version": "3.12.2"
  }
 },
 "nbformat": 4,
 "nbformat_minor": 2
}
